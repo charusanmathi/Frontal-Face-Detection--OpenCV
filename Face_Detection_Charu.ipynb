{
 "cells": [
  {
   "cell_type": "code",
   "execution_count": 1,
   "id": "9f1141f7",
   "metadata": {},
   "outputs": [],
   "source": [
    "\n",
    "import cv2, glob,os\n",
    "# Define the path to the folder containing your images\n",
    "folder_path = \"/Users/charulatha/Documents/Data Science/Intellipat/AI/Assignments/Face recognition/pics\"\n",
    "\n",
    "# Use glob to get all JPEG files in the folder\n",
    "image_files = glob.glob(os.path.join(folder_path, \"*.jpg\"))\n"
   ]
  },
  {
   "cell_type": "code",
   "execution_count": 2,
   "id": "ed44b67d",
   "metadata": {},
   "outputs": [],
   "source": [
    "detect = cv2.CascadeClassifier(\"haarcascade_frontalface_default.xml\")"
   ]
  },
  {
   "cell_type": "code",
   "execution_count": 3,
   "id": "1d39bb5c",
   "metadata": {},
   "outputs": [],
   "source": [
    "# Iterating through the images\n",
    "\n",
    "for timage in image_files:\n",
    "    # Load the image\n",
    "    image = cv2.imread(timage)\n",
    "    \n",
    "    # Check if the image was successfully loaded\n",
    "    if image is None:\n",
    "        print(\"Error: Unable to load the image at\", timage)\n",
    "        continue\n",
    "    \n",
    "    # Convert the image to grayscale\n",
    "    grayimg = cv2.cvtColor(image, cv2.COLOR_BGR2GRAY)\n",
    "    \n",
    "    # Detect faces in the grayscale image\n",
    "    faces = detect.detectMultiScale(grayimg, 1.25, 3)\n",
    "    \n",
    "    # Draw bounding boxes around the detected faces\n",
    "    for (x, y, w, h) in faces:\n",
    "        cv2.rectangle(image, (x, y), (x + w, y + h), (0, 255, 0), 2)\n",
    "    \n",
    "    # Display the image with bounding boxes\n",
    "    cv2.imshow('Detection of front facing images', image)\n",
    "    \n",
    "    # Wait for a key press for 2000 milliseconds (2 seconds)\n",
    "    if cv2.waitKey(2000) & 0xFF == ord('q'):\n",
    "        break  # Break the loop if 'q' key is pressed\n",
    "\n",
    "# Close all OpenCV windows after displaying all images\n",
    "cv2.destroyAllWindows()\n"
   ]
  },
  {
   "cell_type": "code",
   "execution_count": null,
   "id": "e71d24f1",
   "metadata": {},
   "outputs": [],
   "source": []
  },
  {
   "cell_type": "code",
   "execution_count": null,
   "id": "dcb50ec0",
   "metadata": {},
   "outputs": [],
   "source": []
  }
 ],
 "metadata": {
  "kernelspec": {
   "display_name": "Python 3 (ipykernel)",
   "language": "python",
   "name": "python3"
  },
  "language_info": {
   "codemirror_mode": {
    "name": "ipython",
    "version": 3
   },
   "file_extension": ".py",
   "mimetype": "text/x-python",
   "name": "python",
   "nbconvert_exporter": "python",
   "pygments_lexer": "ipython3",
   "version": "3.10.9"
  },
  "varInspector": {
   "cols": {
    "lenName": 16,
    "lenType": 16,
    "lenVar": 40
   },
   "kernels_config": {
    "python": {
     "delete_cmd_postfix": "",
     "delete_cmd_prefix": "del ",
     "library": "var_list.py",
     "varRefreshCmd": "print(var_dic_list())"
    },
    "r": {
     "delete_cmd_postfix": ") ",
     "delete_cmd_prefix": "rm(",
     "library": "var_list.r",
     "varRefreshCmd": "cat(var_dic_list()) "
    }
   },
   "types_to_exclude": [
    "module",
    "function",
    "builtin_function_or_method",
    "instance",
    "_Feature"
   ],
   "window_display": false
  }
 },
 "nbformat": 4,
 "nbformat_minor": 5
}
